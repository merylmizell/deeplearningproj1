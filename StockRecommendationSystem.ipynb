{
  "nbformat": 4,
  "nbformat_minor": 0,
  "metadata": {
    "colab": {
      "provenance": [],
      "authorship_tag": "ABX9TyPDe48pWMnHcJ8dN4JdxIjX",
      "include_colab_link": true
    },
    "kernelspec": {
      "name": "python3",
      "display_name": "Python 3"
    },
    "language_info": {
      "name": "python"
    }
  },
  "cells": [
    {
      "cell_type": "markdown",
      "metadata": {
        "id": "view-in-github",
        "colab_type": "text"
      },
      "source": [
        "<a href=\"https://colab.research.google.com/github/merylmizell/deeplearningproj1/blob/main/StockRecommendationSystem.ipynb\" target=\"_parent\"><img src=\"https://colab.research.google.com/assets/colab-badge.svg\" alt=\"Open In Colab\"/></a>"
      ]
    },
    {
      "cell_type": "code",
      "execution_count": null,
      "metadata": {
        "id": "l2HUre36lvNj",
        "colab": {
          "base_uri": "https://localhost:8080/"
        },
        "outputId": "d5370ce9-113d-4da2-8d85-f853374a17cc"
      },
      "outputs": [
        {
          "output_type": "stream",
          "name": "stdout",
          "text": [
            "Cloning into 'deeplearningproj1'...\n",
            "remote: Enumerating objects: 9, done.\u001b[K\n",
            "remote: Counting objects: 100% (9/9), done.\u001b[K\n",
            "remote: Compressing objects: 100% (5/5), done.\u001b[K\n",
            "remote: Total 9 (delta 0), reused 0 (delta 0), pack-reused 0 (from 0)\u001b[K\n",
            "Receiving objects: 100% (9/9), done.\n"
          ]
        }
      ],
      "source": [
        "!git clone https://github.com/merylmizell/deeplearningproj1.git\n"
      ]
    },
    {
      "cell_type": "code",
      "source": [
        "%cd deeplearningproj1"
      ],
      "metadata": {
        "colab": {
          "base_uri": "https://localhost:8080/"
        },
        "id": "EK-1HeijD3LI",
        "outputId": "c007a701-62d9-44d3-b658-dbb28bbe6d9e"
      },
      "execution_count": null,
      "outputs": [
        {
          "output_type": "stream",
          "name": "stdout",
          "text": [
            "/content/deeplearningproj1\n"
          ]
        }
      ]
    },
    {
      "cell_type": "code",
      "source": [
        "!pip install yfinance"
      ],
      "metadata": {
        "colab": {
          "base_uri": "https://localhost:8080/"
        },
        "id": "UDANnx7pJRO7",
        "outputId": "15a4297a-da92-4195-c458-6b6cfeafc7c8"
      },
      "execution_count": 4,
      "outputs": [
        {
          "output_type": "stream",
          "name": "stdout",
          "text": [
            "Requirement already satisfied: yfinance in /usr/local/lib/python3.10/dist-packages (0.2.44)\n",
            "Requirement already satisfied: pandas>=1.3.0 in /usr/local/lib/python3.10/dist-packages (from yfinance) (2.2.2)\n",
            "Requirement already satisfied: numpy>=1.16.5 in /usr/local/lib/python3.10/dist-packages (from yfinance) (1.26.4)\n",
            "Requirement already satisfied: requests>=2.31 in /usr/local/lib/python3.10/dist-packages (from yfinance) (2.32.3)\n",
            "Requirement already satisfied: multitasking>=0.0.7 in /usr/local/lib/python3.10/dist-packages (from yfinance) (0.0.11)\n",
            "Requirement already satisfied: lxml>=4.9.1 in /usr/local/lib/python3.10/dist-packages (from yfinance) (4.9.4)\n",
            "Requirement already satisfied: platformdirs>=2.0.0 in /usr/local/lib/python3.10/dist-packages (from yfinance) (4.3.6)\n",
            "Requirement already satisfied: pytz>=2022.5 in /usr/local/lib/python3.10/dist-packages (from yfinance) (2024.2)\n",
            "Requirement already satisfied: frozendict>=2.3.4 in /usr/local/lib/python3.10/dist-packages (from yfinance) (2.4.5)\n",
            "Requirement already satisfied: peewee>=3.16.2 in /usr/local/lib/python3.10/dist-packages (from yfinance) (3.17.6)\n",
            "Requirement already satisfied: beautifulsoup4>=4.11.1 in /usr/local/lib/python3.10/dist-packages (from yfinance) (4.12.3)\n",
            "Requirement already satisfied: html5lib>=1.1 in /usr/local/lib/python3.10/dist-packages (from yfinance) (1.1)\n",
            "Requirement already satisfied: soupsieve>1.2 in /usr/local/lib/python3.10/dist-packages (from beautifulsoup4>=4.11.1->yfinance) (2.6)\n",
            "Requirement already satisfied: six>=1.9 in /usr/local/lib/python3.10/dist-packages (from html5lib>=1.1->yfinance) (1.16.0)\n",
            "Requirement already satisfied: webencodings in /usr/local/lib/python3.10/dist-packages (from html5lib>=1.1->yfinance) (0.5.1)\n",
            "Requirement already satisfied: python-dateutil>=2.8.2 in /usr/local/lib/python3.10/dist-packages (from pandas>=1.3.0->yfinance) (2.8.2)\n",
            "Requirement already satisfied: tzdata>=2022.7 in /usr/local/lib/python3.10/dist-packages (from pandas>=1.3.0->yfinance) (2024.2)\n",
            "Requirement already satisfied: charset-normalizer<4,>=2 in /usr/local/lib/python3.10/dist-packages (from requests>=2.31->yfinance) (3.3.2)\n",
            "Requirement already satisfied: idna<4,>=2.5 in /usr/local/lib/python3.10/dist-packages (from requests>=2.31->yfinance) (3.10)\n",
            "Requirement already satisfied: urllib3<3,>=1.21.1 in /usr/local/lib/python3.10/dist-packages (from requests>=2.31->yfinance) (2.2.3)\n",
            "Requirement already satisfied: certifi>=2017.4.17 in /usr/local/lib/python3.10/dist-packages (from requests>=2.31->yfinance) (2024.8.30)\n"
          ]
        }
      ]
    },
    {
      "cell_type": "code",
      "source": [
        "import yfinance as yf\n",
        "import pandas as pd\n",
        "\n",
        "# Example: Fetch stock data for a given company (e.g., AAPL for Apple) and specific period\n",
        "ticker = 'AAPL'\n",
        "stock_data = yf.download(ticker, start=\"2020-01-01\", end=\"2023-01-01\", interval='1d')\n",
        "\n",
        "# View the first few rows of the dataset\n",
        "print(stock_data.head())\n"
      ],
      "metadata": {
        "colab": {
          "base_uri": "https://localhost:8080/"
        },
        "id": "PIZ2KXWrJaQP",
        "outputId": "91df5c58-a0a3-4582-bd80-5fe71a53ea61"
      },
      "execution_count": 5,
      "outputs": [
        {
          "output_type": "stream",
          "name": "stderr",
          "text": [
            "\r[*********************100%***********************]  1 of 1 completed"
          ]
        },
        {
          "output_type": "stream",
          "name": "stdout",
          "text": [
            "                 Open       High        Low      Close  Adj Close     Volume\n",
            "Date                                                                        \n",
            "2020-01-02  74.059998  75.150002  73.797501  75.087502  72.876106  135480400\n",
            "2020-01-03  74.287498  75.144997  74.125000  74.357498  72.167618  146322800\n",
            "2020-01-06  73.447502  74.989998  73.187500  74.949997  72.742668  118387200\n",
            "2020-01-07  74.959999  75.224998  74.370003  74.597504  72.400543  108872000\n",
            "2020-01-08  74.290001  76.110001  74.290001  75.797501  73.565193  132079200\n"
          ]
        },
        {
          "output_type": "stream",
          "name": "stderr",
          "text": [
            "\n"
          ]
        }
      ]
    },
    {
      "cell_type": "code",
      "source": [
        "esg_data = pd.read_csv('ESGdata.csv')\n",
        "print(esg_data.head())"
      ],
      "metadata": {
        "colab": {
          "base_uri": "https://localhost:8080/"
        },
        "id": "LAUNzSLTJjUQ",
        "outputId": "f4a195e2-1349-4106-c667-eb91be664ea1"
      },
      "execution_count": 8,
      "outputs": [
        {
          "output_type": "stream",
          "name": "stdout",
          "text": [
            "  ticker                           name currency  \\\n",
            "0    dis                 Walt Disney Co      USD   \n",
            "1     gm              General Motors Co      USD   \n",
            "2    gww                WW Grainger Inc      USD   \n",
            "3    mhk          Mohawk Industries Inc      USD   \n",
            "4    lyv  Live Nation Entertainment Inc      USD   \n",
            "\n",
            "                        exchange                            industry  \\\n",
            "0  NEW YORK STOCK EXCHANGE, INC.                               Media   \n",
            "1  NEW YORK STOCK EXCHANGE, INC.                         Automobiles   \n",
            "2  NEW YORK STOCK EXCHANGE, INC.  Trading Companies and Distributors   \n",
            "3  NEW YORK STOCK EXCHANGE, INC.                   Consumer products   \n",
            "4  NEW YORK STOCK EXCHANGE, INC.                               Media   \n",
            "\n",
            "                                                logo  \\\n",
            "0  https://static.finnhub.io/logo/ef50b4a2b263c84...   \n",
            "1  https://static.finnhub.io/logo/9253db78-80c9-1...   \n",
            "2  https://static.finnhub.io/logo/f153dcda-80eb-1...   \n",
            "3  https://static.finnhub.io/logo/26868a62-80ec-1...   \n",
            "4  https://static.finnhub.io/logo/1cd144d2-80ec-1...   \n",
            "\n",
            "                                     weburl environment_grade  \\\n",
            "0         https://thewaltdisneycompany.com/                 A   \n",
            "1                       https://www.gm.com/                 A   \n",
            "2                 https://www.grainger.com/                 B   \n",
            "3                    https://mohawkind.com/                 A   \n",
            "4  https://www.livenationentertainment.com/               BBB   \n",
            "\n",
            "  environment_level social_grade  ... governance_grade governance_level  \\\n",
            "0              High           BB  ...               BB           Medium   \n",
            "1              High           BB  ...                B           Medium   \n",
            "2            Medium           BB  ...                B           Medium   \n",
            "3              High            B  ...               BB           Medium   \n",
            "4              High           BB  ...                B           Medium   \n",
            "\n",
            "  environment_score  social_score  governance_score  total_score  \\\n",
            "0               510           316               321         1147   \n",
            "1               510           303               255         1068   \n",
            "2               255           385               240          880   \n",
            "3               570           298               303         1171   \n",
            "4               492           310               250         1052   \n",
            "\n",
            "   last_processing_date total_grade total_level      cik  \n",
            "0            19-04-2022         BBB        High  1744489  \n",
            "1            17-04-2022         BBB        High  1467858  \n",
            "2            19-04-2022          BB      Medium   277135  \n",
            "3            18-04-2022         BBB        High   851968  \n",
            "4            18-04-2022         BBB        High  1335258  \n",
            "\n",
            "[5 rows x 21 columns]\n"
          ]
        }
      ]
    }
  ]
}